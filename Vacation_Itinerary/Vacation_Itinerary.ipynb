{
 "cells": [
  {
   "cell_type": "markdown",
   "metadata": {},
   "source": [
    "## Deliverable 3. Create a Travel Itinerary Map."
   ]
  },
  {
   "cell_type": "code",
   "execution_count": 2,
   "metadata": {},
   "outputs": [],
   "source": [
    "# Dependencies and Setup\n",
    "import pandas as pd\n",
    "import requests\n",
    "import gmaps\n",
    "\n",
    "# Import API key\n",
    "from config import g_key\n",
    "\n",
    "# Configure gmaps\n",
    "gmaps.configure(api_key=g_key)"
   ]
  },
  {
   "cell_type": "code",
   "execution_count": 3,
   "metadata": {},
   "outputs": [
    {
     "output_type": "execute_result",
     "data": {
      "text/plain": [
       "   City_ID         City Country  Max Temp Current Description      Lat  \\\n",
       "0        0       Talara      PE     87.80           clear sky  -4.5772   \n",
       "1        5     Lorengau      PG     80.87     overcast clouds  -2.0226   \n",
       "2       13     Meulaboh      ID     77.70     overcast clouds   4.1363   \n",
       "3       17  San Lorenzo      PY     75.20       broken clouds -25.3333   \n",
       "4       22     Saldanha      ZA     71.60     overcast clouds -33.0117   \n",
       "\n",
       "        Lng                  Hotel Name  \n",
       "0  -81.2719            Hostal Oro Negro  \n",
       "1  147.2712  Lorengau Harbourside Hotel  \n",
       "2   96.1285                   Kost Pria  \n",
       "3  -57.5333               Hotel del Sur  \n",
       "4   17.9442              Blue Bay Lodge  "
      ],
      "text/html": "<div>\n<style scoped>\n    .dataframe tbody tr th:only-of-type {\n        vertical-align: middle;\n    }\n\n    .dataframe tbody tr th {\n        vertical-align: top;\n    }\n\n    .dataframe thead th {\n        text-align: right;\n    }\n</style>\n<table border=\"1\" class=\"dataframe\">\n  <thead>\n    <tr style=\"text-align: right;\">\n      <th></th>\n      <th>City_ID</th>\n      <th>City</th>\n      <th>Country</th>\n      <th>Max Temp</th>\n      <th>Current Description</th>\n      <th>Lat</th>\n      <th>Lng</th>\n      <th>Hotel Name</th>\n    </tr>\n  </thead>\n  <tbody>\n    <tr>\n      <th>0</th>\n      <td>0</td>\n      <td>Talara</td>\n      <td>PE</td>\n      <td>87.80</td>\n      <td>clear sky</td>\n      <td>-4.5772</td>\n      <td>-81.2719</td>\n      <td>Hostal Oro Negro</td>\n    </tr>\n    <tr>\n      <th>1</th>\n      <td>5</td>\n      <td>Lorengau</td>\n      <td>PG</td>\n      <td>80.87</td>\n      <td>overcast clouds</td>\n      <td>-2.0226</td>\n      <td>147.2712</td>\n      <td>Lorengau Harbourside Hotel</td>\n    </tr>\n    <tr>\n      <th>2</th>\n      <td>13</td>\n      <td>Meulaboh</td>\n      <td>ID</td>\n      <td>77.70</td>\n      <td>overcast clouds</td>\n      <td>4.1363</td>\n      <td>96.1285</td>\n      <td>Kost Pria</td>\n    </tr>\n    <tr>\n      <th>3</th>\n      <td>17</td>\n      <td>San Lorenzo</td>\n      <td>PY</td>\n      <td>75.20</td>\n      <td>broken clouds</td>\n      <td>-25.3333</td>\n      <td>-57.5333</td>\n      <td>Hotel del Sur</td>\n    </tr>\n    <tr>\n      <th>4</th>\n      <td>22</td>\n      <td>Saldanha</td>\n      <td>ZA</td>\n      <td>71.60</td>\n      <td>overcast clouds</td>\n      <td>-33.0117</td>\n      <td>17.9442</td>\n      <td>Blue Bay Lodge</td>\n    </tr>\n  </tbody>\n</table>\n</div>"
     },
     "metadata": {},
     "execution_count": 3
    }
   ],
   "source": [
    "# 1. Read the WeatherPy_vacation.csv into a DataFrame.\n",
    "vacation_df = pd.read_csv(\"../Vacation_Search/WeatherPy_vacation.csv\")\n",
    "vacation_df.head()"
   ]
  },
  {
   "cell_type": "code",
   "execution_count": 6,
   "metadata": {},
   "outputs": [],
   "source": [
    "# 2. Using the template add the city name, the country code, the weather description and maximum temperature for the city.\n",
    "info_box_template = \"\"\"\n",
    "<dl>\n",
    "<dt><b>City</b></dt>\n",
    "<ddstyle=\"text-align:left;\">{City}</dd>\n",
    "<dt><b>Country</b></dt>\n",
    "<ddstyle=\"text-align:left;\">{Country}</dd>\n",
    "<dt><b>Current Weather</b></dt>\n",
    "<ddstyle=\"text-align:left;\">{Current Description}</dd> and <ddstyle=\"text-align:left;\">{Max Temp} °F</dd>\n",
    "</dl>\n",
    "\"\"\"\n",
    "\n",
    "# 3a. Get the data from each row and add it to the formatting template and store the data in a list.\n",
    "hotel_info = [info_box_template.format(**row) for index, row in vacation_df.iterrows()]\n",
    "\n",
    "# 3b. Get the latitude and longitude from each row and store in a new DataFrame.\n",
    "locations = vacation_df[[\"Lat\", \"Lng\"]]"
   ]
  },
  {
   "cell_type": "code",
   "execution_count": 7,
   "metadata": {},
   "outputs": [
    {
     "output_type": "display_data",
     "data": {
      "text/plain": "Figure(layout=FigureLayout(height='420px'))",
      "application/vnd.jupyter.widget-view+json": {
       "version_major": 2,
       "version_minor": 0,
       "model_id": "a6e3e973f01242838ef8b79266987615"
      }
     },
     "metadata": {}
    }
   ],
   "source": [
    "# 4a. Add a marker layer for each city to the map.\n",
    "fig = gmaps.figure(center=(30.0, 31.0), zoom_level=1.5)\n",
    "marker_layer = gmaps.marker_layer(locations, info_box_content=hotel_info)\n",
    "fig.add_layer(marker_layer)\n",
    "# 4b. Display the figure\n",
    "fig\n"
   ]
  },
  {
   "cell_type": "code",
   "execution_count": 10,
   "metadata": {},
   "outputs": [],
   "source": [
    "# From the map above pick 4 cities and create a vacation itinerary route to travel between the four cities. \n",
    "    # Talara\n",
    "    # Yurimaguas\n",
    "    # Tocache\n",
    "    # Huarmey\n",
    "# 5. Create DataFrames for each city by filtering the 'vacation_df' using the loc method. \n",
    "# Hint: The starting and ending city should be the same city.\n",
    "vacation_start = vacation_df.loc[vacation_df['City']=='Talara']\n",
    "vacation_end = vacation_df.loc[vacation_df['City']=='Talara']\n",
    "vacation_stop1 = vacation_df.loc[vacation_df['City']=='Yurimaguas']\n",
    "vacation_stop2 = vacation_df.loc[vacation_df['City']=='Tocache'] \n",
    "vacation_stop3 = vacation_df.loc[vacation_df['City']=='Huarmey'] "
   ]
  },
  {
   "cell_type": "code",
   "execution_count": 35,
   "metadata": {},
   "outputs": [
    {
     "output_type": "stream",
     "name": "stdout",
     "text": [
      "Start: (-4.5772, -81.2719), End: (-4.5772, -81.2719)\nStop 1: (-5.9, -76.0833), Stop 2: (-8.1842, -76.5125), Stop 3: (-10.0681, -78.1522)\n"
     ]
    }
   ],
   "source": [
    "# 6. Get the latitude-longitude pairs as tuples from each city DataFrame using the to_numpy function and list indexing.\n",
    "start = vacation_start[\"Lat\"].to_numpy()[0],vacation_start[\"Lng\"].to_numpy()[0]\n",
    "end = start\n",
    "stop1 = vacation_stop1[\"Lat\"].to_numpy()[0],vacation_stop1[\"Lng\"].to_numpy()[0]\n",
    "stop2 = vacation_stop2[\"Lat\"].to_numpy()[0],vacation_stop2[\"Lng\"].to_numpy()[0]\n",
    "stop3 = vacation_stop3[\"Lat\"].to_numpy()[0],vacation_stop3[\"Lng\"].to_numpy()[0]\n",
    "\n",
    "print(f'Start: {start}, End: {end}')\n",
    "print(f'Stop 1: {stop1}, Stop 2: {stop2}, Stop 3: {stop3}')"
   ]
  },
  {
   "cell_type": "code",
   "execution_count": 36,
   "metadata": {
    "scrolled": true
   },
   "outputs": [
    {
     "output_type": "display_data",
     "data": {
      "text/plain": "Figure(layout=FigureLayout(height='420px'))",
      "application/vnd.jupyter.widget-view+json": {
       "version_major": 2,
       "version_minor": 0,
       "model_id": "985779c3de61414e9670caf7ed17b0a2"
      }
     },
     "metadata": {}
    }
   ],
   "source": [
    "# 7. Create a direction layer map using the start and end latitude-longitude pairs,\n",
    "# and stop1, stop2, and stop3 as the waypoints. The travel_mode should be \"DRIVING\", \"BICYCLING\", or \"WALKING\".\n",
    "fig = gmaps.figure()\n",
    "city_itinerary = gmaps.directions_layer(start, end, waypoints=[stop1,stop2,stop3],travel_mode='DRIVING')\n",
    "\n",
    "fig.add_layer(city_itinerary)\n",
    "fig\n"
   ]
  },
  {
   "cell_type": "code",
   "execution_count": 38,
   "metadata": {},
   "outputs": [
    {
     "output_type": "execute_result",
     "data": {
      "text/plain": [
       "   City_ID        City Country  Max Temp Current Description      Lat  \\\n",
       "0        0      Talara      PE     87.80           clear sky  -4.5772   \n",
       "1      556  Yurimaguas      PE     84.20          few clouds  -5.9000   \n",
       "2      579     Tocache      PE     85.42       broken clouds  -8.1842   \n",
       "3      696     Huarmey      PE     74.07       broken clouds -10.0681   \n",
       "\n",
       "       Lng                            Hotel Name  \n",
       "0 -81.2719                      Hostal Oro Negro  \n",
       "1 -76.0833  Rio Huallaga Hotel & Business Center  \n",
       "2 -76.5125                           Hotel Ortiz  \n",
       "3 -78.1522                         Hotel Miramar  "
      ],
      "text/html": "<div>\n<style scoped>\n    .dataframe tbody tr th:only-of-type {\n        vertical-align: middle;\n    }\n\n    .dataframe tbody tr th {\n        vertical-align: top;\n    }\n\n    .dataframe thead th {\n        text-align: right;\n    }\n</style>\n<table border=\"1\" class=\"dataframe\">\n  <thead>\n    <tr style=\"text-align: right;\">\n      <th></th>\n      <th>City_ID</th>\n      <th>City</th>\n      <th>Country</th>\n      <th>Max Temp</th>\n      <th>Current Description</th>\n      <th>Lat</th>\n      <th>Lng</th>\n      <th>Hotel Name</th>\n    </tr>\n  </thead>\n  <tbody>\n    <tr>\n      <th>0</th>\n      <td>0</td>\n      <td>Talara</td>\n      <td>PE</td>\n      <td>87.80</td>\n      <td>clear sky</td>\n      <td>-4.5772</td>\n      <td>-81.2719</td>\n      <td>Hostal Oro Negro</td>\n    </tr>\n    <tr>\n      <th>1</th>\n      <td>556</td>\n      <td>Yurimaguas</td>\n      <td>PE</td>\n      <td>84.20</td>\n      <td>few clouds</td>\n      <td>-5.9000</td>\n      <td>-76.0833</td>\n      <td>Rio Huallaga Hotel &amp; Business Center</td>\n    </tr>\n    <tr>\n      <th>2</th>\n      <td>579</td>\n      <td>Tocache</td>\n      <td>PE</td>\n      <td>85.42</td>\n      <td>broken clouds</td>\n      <td>-8.1842</td>\n      <td>-76.5125</td>\n      <td>Hotel Ortiz</td>\n    </tr>\n    <tr>\n      <th>3</th>\n      <td>696</td>\n      <td>Huarmey</td>\n      <td>PE</td>\n      <td>74.07</td>\n      <td>broken clouds</td>\n      <td>-10.0681</td>\n      <td>-78.1522</td>\n      <td>Hotel Miramar</td>\n    </tr>\n  </tbody>\n</table>\n</div>"
     },
     "metadata": {},
     "execution_count": 38
    }
   ],
   "source": [
    "# 8. To create a marker layer map between the four cities.\n",
    "#  Combine the four city DataFrames into one DataFrame using the concat() function.\n",
    "itinerary_df = pd.concat([vacation_start,vacation_stop1,vacation_stop2,vacation_stop3],ignore_index=True)\n",
    "itinerary_df"
   ]
  },
  {
   "cell_type": "code",
   "execution_count": 55,
   "metadata": {},
   "outputs": [],
   "source": [
    "# 9 Using the template add city name, the country code, the weather description and maximum temperature for the city. \n",
    "info_box_template = \"\"\"\n",
    "<dl>\n",
    "<dt><b>Hotel Name</b></dt>\n",
    "<ddstyle=\"text-align:left;\">{Hotel Name}</dd>\n",
    "<dt><b>City</b></dt>\n",
    "<ddstyle=\"text-align:left;\">{City}</dd>\n",
    "<dt><b>Country</b></dt>\n",
    "<ddstyle=\"text-align:left;\">{Country}</dd>\n",
    "<dt><b>Current Weather</b></dt>\n",
    "<ddstyle=\"text-align:left;\">{Current Description}</dd> and <ddstyle=\"text-align:left;\">{Max Temp} °F</dd>\n",
    "</dl>\n",
    "\"\"\"\n",
    "\n",
    "# 10a Get the data from each row and add it to the formatting template and store the data in a list.\n",
    "hotel_info = [info_box_template.format(**row) for index, row in itinerary_df.iterrows()]\n",
    "\n",
    "# 10b. Get the latitude and longitude from each row and store in a new DataFrame.\n",
    "locations = itinerary_df[[\"Lat\", \"Lng\"]]"
   ]
  },
  {
   "cell_type": "code",
   "execution_count": 56,
   "metadata": {},
   "outputs": [
    {
     "output_type": "display_data",
     "data": {
      "text/plain": "Figure(layout=FigureLayout(height='900px', width='1750px'))",
      "application/vnd.jupyter.widget-view+json": {
       "version_major": 2,
       "version_minor": 0,
       "model_id": "48c703d99bfd44d383018e9fbc56508c"
      }
     },
     "metadata": {}
    }
   ],
   "source": [
    "# 11a. Add a marker layer for each city to the map.\n",
    "fig = gmaps.figure(layout={'width': '1750px', 'height': '900px'})\n",
    "marker_layer = gmaps.marker_layer(locations, info_box_content=hotel_info)\n",
    "fig.add_layer(marker_layer)\n",
    "# 11b. Display the figure\n",
    "fig"
   ]
  },
  {
   "cell_type": "code",
   "execution_count": null,
   "metadata": {},
   "outputs": [],
   "source": []
  }
 ],
 "metadata": {
  "kernelspec": {
   "name": "python379jvsc74a57bd087062fd7c6a7fa9e5d42cab2362b0b980cca2e3d1a89f8722be6c52e565a5952",
   "display_name": "Python 3.7.9 64-bit ('PythonData': conda)"
  },
  "language_info": {
   "codemirror_mode": {
    "name": "ipython",
    "version": 3
   },
   "file_extension": ".py",
   "mimetype": "text/x-python",
   "name": "python",
   "nbconvert_exporter": "python",
   "pygments_lexer": "ipython3",
   "version": "3.7.9-final"
  },
  "latex_envs": {
   "LaTeX_envs_menu_present": true,
   "autoclose": false,
   "autocomplete": true,
   "bibliofile": "biblio.bib",
   "cite_by": "apalike",
   "current_citInitial": 1,
   "eqLabelWithNumbers": true,
   "eqNumInitial": 1,
   "hotkeys": {
    "equation": "Ctrl-E",
    "itemize": "Ctrl-I"
   },
   "labels_anchors": false,
   "latex_user_defs": false,
   "report_style_numbering": false,
   "user_envs_cfg": false
  }
 },
 "nbformat": 4,
 "nbformat_minor": 2
}