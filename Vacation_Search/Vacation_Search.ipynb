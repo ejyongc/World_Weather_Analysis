{
 "cells": [
  {
   "cell_type": "markdown",
   "metadata": {},
   "source": [
    "## Deliverable 2. Create a Customer Travel Destinations Map."
   ]
  },
  {
   "cell_type": "code",
   "execution_count": 89,
   "metadata": {},
   "outputs": [],
   "source": [
    "# Dependencies and Setup\n",
    "import pandas as pd\n",
    "import requests\n",
    "import gmaps\n",
    "\n",
    "# Import API key\n",
    "from config import g_key\n",
    "\n",
    "# Configure gmaps API key\n",
    "gmaps.configure(api_key=g_key)"
   ]
  },
  {
   "cell_type": "code",
   "execution_count": 90,
   "metadata": {},
   "outputs": [
    {
     "output_type": "execute_result",
     "data": {
      "text/plain": [
       "   City_ID     City Country      Lat       Lng  Max Temp  Humidity  \\\n",
       "0        0   Talara      PE  -4.5772  -81.2719      87.8        48   \n",
       "1        1  Yeppoon      AU -23.1333  150.7333      68.0        64   \n",
       "2        2    Kapaa      US  22.0752 -159.3190      66.2        82   \n",
       "3        3    Bluff      NZ -46.6000  168.3333      48.0        97   \n",
       "4        4  Ushuaia      AR -54.8000  -68.3000      48.2        66   \n",
       "\n",
       "   Cloudiness  Wind Speed Current Description  \n",
       "0           0       14.97           clear sky  \n",
       "1           0       13.04           clear sky  \n",
       "2          90        6.91     overcast clouds  \n",
       "3          54        1.99       broken clouds  \n",
       "4          20        4.61          few clouds  "
      ],
      "text/html": "<div>\n<style scoped>\n    .dataframe tbody tr th:only-of-type {\n        vertical-align: middle;\n    }\n\n    .dataframe tbody tr th {\n        vertical-align: top;\n    }\n\n    .dataframe thead th {\n        text-align: right;\n    }\n</style>\n<table border=\"1\" class=\"dataframe\">\n  <thead>\n    <tr style=\"text-align: right;\">\n      <th></th>\n      <th>City_ID</th>\n      <th>City</th>\n      <th>Country</th>\n      <th>Lat</th>\n      <th>Lng</th>\n      <th>Max Temp</th>\n      <th>Humidity</th>\n      <th>Cloudiness</th>\n      <th>Wind Speed</th>\n      <th>Current Description</th>\n    </tr>\n  </thead>\n  <tbody>\n    <tr>\n      <th>0</th>\n      <td>0</td>\n      <td>Talara</td>\n      <td>PE</td>\n      <td>-4.5772</td>\n      <td>-81.2719</td>\n      <td>87.8</td>\n      <td>48</td>\n      <td>0</td>\n      <td>14.97</td>\n      <td>clear sky</td>\n    </tr>\n    <tr>\n      <th>1</th>\n      <td>1</td>\n      <td>Yeppoon</td>\n      <td>AU</td>\n      <td>-23.1333</td>\n      <td>150.7333</td>\n      <td>68.0</td>\n      <td>64</td>\n      <td>0</td>\n      <td>13.04</td>\n      <td>clear sky</td>\n    </tr>\n    <tr>\n      <th>2</th>\n      <td>2</td>\n      <td>Kapaa</td>\n      <td>US</td>\n      <td>22.0752</td>\n      <td>-159.3190</td>\n      <td>66.2</td>\n      <td>82</td>\n      <td>90</td>\n      <td>6.91</td>\n      <td>overcast clouds</td>\n    </tr>\n    <tr>\n      <th>3</th>\n      <td>3</td>\n      <td>Bluff</td>\n      <td>NZ</td>\n      <td>-46.6000</td>\n      <td>168.3333</td>\n      <td>48.0</td>\n      <td>97</td>\n      <td>54</td>\n      <td>1.99</td>\n      <td>broken clouds</td>\n    </tr>\n    <tr>\n      <th>4</th>\n      <td>4</td>\n      <td>Ushuaia</td>\n      <td>AR</td>\n      <td>-54.8000</td>\n      <td>-68.3000</td>\n      <td>48.2</td>\n      <td>66</td>\n      <td>20</td>\n      <td>4.61</td>\n      <td>few clouds</td>\n    </tr>\n  </tbody>\n</table>\n</div>"
     },
     "metadata": {},
     "execution_count": 90
    }
   ],
   "source": [
    "# 1. Import the WeatherPy_database.csv file. \n",
    "city_data_df = pd.read_csv(\"../Weather_Database/WeatherPy_database.csv\")\n",
    "city_data_df.head()"
   ]
  },
  {
   "cell_type": "code",
   "execution_count": 91,
   "metadata": {},
   "outputs": [],
   "source": [
    "# 2. Prompt the user to enter minimum and maximum temperature criteria \n",
    "min_temp = float(input(\"What is the minimum temperature you would like for your trip? \"))\n",
    "max_temp = float(input(\"What is the maximum temperature you would like for your trip? \"))"
   ]
  },
  {
   "cell_type": "code",
   "execution_count": 93,
   "metadata": {},
   "outputs": [
    {
     "output_type": "execute_result",
     "data": {
      "text/plain": [
       "    City_ID         City Country      Lat       Lng  Max Temp  Humidity  \\\n",
       "0         0       Talara      PE  -4.5772  -81.2719     87.80        48   \n",
       "5         5     Lorengau      PG  -2.0226  147.2712     80.87        83   \n",
       "13       13     Meulaboh      ID   4.1363   96.1285     77.70        86   \n",
       "17       17  San Lorenzo      PY -25.3333  -57.5333     75.20        88   \n",
       "22       22     Saldanha      ZA -33.0117   17.9442     71.60        60   \n",
       "\n",
       "    Cloudiness  Wind Speed Current Description  \n",
       "0            0       14.97           clear sky  \n",
       "5           96       13.73     overcast clouds  \n",
       "13          95        3.29     overcast clouds  \n",
       "17          75       13.80       broken clouds  \n",
       "22          99       12.66     overcast clouds  "
      ],
      "text/html": "<div>\n<style scoped>\n    .dataframe tbody tr th:only-of-type {\n        vertical-align: middle;\n    }\n\n    .dataframe tbody tr th {\n        vertical-align: top;\n    }\n\n    .dataframe thead th {\n        text-align: right;\n    }\n</style>\n<table border=\"1\" class=\"dataframe\">\n  <thead>\n    <tr style=\"text-align: right;\">\n      <th></th>\n      <th>City_ID</th>\n      <th>City</th>\n      <th>Country</th>\n      <th>Lat</th>\n      <th>Lng</th>\n      <th>Max Temp</th>\n      <th>Humidity</th>\n      <th>Cloudiness</th>\n      <th>Wind Speed</th>\n      <th>Current Description</th>\n    </tr>\n  </thead>\n  <tbody>\n    <tr>\n      <th>0</th>\n      <td>0</td>\n      <td>Talara</td>\n      <td>PE</td>\n      <td>-4.5772</td>\n      <td>-81.2719</td>\n      <td>87.80</td>\n      <td>48</td>\n      <td>0</td>\n      <td>14.97</td>\n      <td>clear sky</td>\n    </tr>\n    <tr>\n      <th>5</th>\n      <td>5</td>\n      <td>Lorengau</td>\n      <td>PG</td>\n      <td>-2.0226</td>\n      <td>147.2712</td>\n      <td>80.87</td>\n      <td>83</td>\n      <td>96</td>\n      <td>13.73</td>\n      <td>overcast clouds</td>\n    </tr>\n    <tr>\n      <th>13</th>\n      <td>13</td>\n      <td>Meulaboh</td>\n      <td>ID</td>\n      <td>4.1363</td>\n      <td>96.1285</td>\n      <td>77.70</td>\n      <td>86</td>\n      <td>95</td>\n      <td>3.29</td>\n      <td>overcast clouds</td>\n    </tr>\n    <tr>\n      <th>17</th>\n      <td>17</td>\n      <td>San Lorenzo</td>\n      <td>PY</td>\n      <td>-25.3333</td>\n      <td>-57.5333</td>\n      <td>75.20</td>\n      <td>88</td>\n      <td>75</td>\n      <td>13.80</td>\n      <td>broken clouds</td>\n    </tr>\n    <tr>\n      <th>22</th>\n      <td>22</td>\n      <td>Saldanha</td>\n      <td>ZA</td>\n      <td>-33.0117</td>\n      <td>17.9442</td>\n      <td>71.60</td>\n      <td>60</td>\n      <td>99</td>\n      <td>12.66</td>\n      <td>overcast clouds</td>\n    </tr>\n  </tbody>\n</table>\n</div>"
     },
     "metadata": {},
     "execution_count": 93
    }
   ],
   "source": [
    "# 3. Filter the city_data_df DataFrame using the input statements to create a new DataFrame using the loc method.\n",
    "preferred_cities_df = city_data_df.loc[(city_data_df['Max Temp']<=max_temp) & (city_data_df['Max Temp']>=min_temp)]\n",
    "preferred_cities_df.head()"
   ]
  },
  {
   "cell_type": "code",
   "execution_count": 94,
   "metadata": {},
   "outputs": [
    {
     "output_type": "execute_result",
     "data": {
      "text/plain": [
       "City_ID                0\n",
       "City                   0\n",
       "Country                4\n",
       "Lat                    0\n",
       "Lng                    0\n",
       "Max Temp               0\n",
       "Humidity               0\n",
       "Cloudiness             0\n",
       "Wind Speed             0\n",
       "Current Description    0\n",
       "dtype: int64"
      ]
     },
     "metadata": {},
     "execution_count": 94
    }
   ],
   "source": [
    "# 4a. Determine if there are any empty rows.\n",
    "preferred_cities_df.isnull().sum()"
   ]
  },
  {
   "cell_type": "code",
   "execution_count": 98,
   "metadata": {},
   "outputs": [
    {
     "output_type": "execute_result",
     "data": {
      "text/plain": [
       "    City_ID         City Country      Lat       Lng  Max Temp  Humidity  \\\n",
       "0         0       Talara      PE  -4.5772  -81.2719     87.80        48   \n",
       "5         5     Lorengau      PG  -2.0226  147.2712     80.87        83   \n",
       "13       13     Meulaboh      ID   4.1363   96.1285     77.70        86   \n",
       "17       17  San Lorenzo      PY -25.3333  -57.5333     75.20        88   \n",
       "22       22     Saldanha      ZA -33.0117   17.9442     71.60        60   \n",
       "\n",
       "    Cloudiness  Wind Speed Current Description  \n",
       "0            0       14.97           clear sky  \n",
       "5           96       13.73     overcast clouds  \n",
       "13          95        3.29     overcast clouds  \n",
       "17          75       13.80       broken clouds  \n",
       "22          99       12.66     overcast clouds  "
      ],
      "text/html": "<div>\n<style scoped>\n    .dataframe tbody tr th:only-of-type {\n        vertical-align: middle;\n    }\n\n    .dataframe tbody tr th {\n        vertical-align: top;\n    }\n\n    .dataframe thead th {\n        text-align: right;\n    }\n</style>\n<table border=\"1\" class=\"dataframe\">\n  <thead>\n    <tr style=\"text-align: right;\">\n      <th></th>\n      <th>City_ID</th>\n      <th>City</th>\n      <th>Country</th>\n      <th>Lat</th>\n      <th>Lng</th>\n      <th>Max Temp</th>\n      <th>Humidity</th>\n      <th>Cloudiness</th>\n      <th>Wind Speed</th>\n      <th>Current Description</th>\n    </tr>\n  </thead>\n  <tbody>\n    <tr>\n      <th>0</th>\n      <td>0</td>\n      <td>Talara</td>\n      <td>PE</td>\n      <td>-4.5772</td>\n      <td>-81.2719</td>\n      <td>87.80</td>\n      <td>48</td>\n      <td>0</td>\n      <td>14.97</td>\n      <td>clear sky</td>\n    </tr>\n    <tr>\n      <th>5</th>\n      <td>5</td>\n      <td>Lorengau</td>\n      <td>PG</td>\n      <td>-2.0226</td>\n      <td>147.2712</td>\n      <td>80.87</td>\n      <td>83</td>\n      <td>96</td>\n      <td>13.73</td>\n      <td>overcast clouds</td>\n    </tr>\n    <tr>\n      <th>13</th>\n      <td>13</td>\n      <td>Meulaboh</td>\n      <td>ID</td>\n      <td>4.1363</td>\n      <td>96.1285</td>\n      <td>77.70</td>\n      <td>86</td>\n      <td>95</td>\n      <td>3.29</td>\n      <td>overcast clouds</td>\n    </tr>\n    <tr>\n      <th>17</th>\n      <td>17</td>\n      <td>San Lorenzo</td>\n      <td>PY</td>\n      <td>-25.3333</td>\n      <td>-57.5333</td>\n      <td>75.20</td>\n      <td>88</td>\n      <td>75</td>\n      <td>13.80</td>\n      <td>broken clouds</td>\n    </tr>\n    <tr>\n      <th>22</th>\n      <td>22</td>\n      <td>Saldanha</td>\n      <td>ZA</td>\n      <td>-33.0117</td>\n      <td>17.9442</td>\n      <td>71.60</td>\n      <td>60</td>\n      <td>99</td>\n      <td>12.66</td>\n      <td>overcast clouds</td>\n    </tr>\n  </tbody>\n</table>\n</div>"
     },
     "metadata": {},
     "execution_count": 98
    }
   ],
   "source": [
    "# 4b. Drop any empty rows and create a new DataFrame that doesn’t have empty rows.\n",
    "clean_preferred_cities_df = preferred_cities_df.dropna() \n",
    "clean_preferred_cities_df.head()"
   ]
  },
  {
   "cell_type": "code",
   "execution_count": 99,
   "metadata": {},
   "outputs": [
    {
     "output_type": "execute_result",
     "data": {
      "text/plain": [
       "            City Country  Max Temp Current Description      Lat       Lng  \\\n",
       "0         Talara      PE     87.80           clear sky  -4.5772  -81.2719   \n",
       "5       Lorengau      PG     80.87     overcast clouds  -2.0226  147.2712   \n",
       "13      Meulaboh      ID     77.70     overcast clouds   4.1363   96.1285   \n",
       "17   San Lorenzo      PY     75.20       broken clouds -25.3333  -57.5333   \n",
       "22      Saldanha      ZA     71.60     overcast clouds -33.0117   17.9442   \n",
       "25         Galle      LK     80.67       broken clouds   6.0367   80.2170   \n",
       "31       Rikitea      PF     78.42           clear sky -23.1203 -134.9692   \n",
       "32  Kudahuvadhoo      MV     83.68       broken clouds   2.6708   72.8944   \n",
       "35        Maceio      BR     77.00                mist  -9.6658  -35.7353   \n",
       "37  Puerto Ayora      EC     80.60          few clouds  -0.7393  -90.3518   \n",
       "\n",
       "   Hotel Name  \n",
       "0              \n",
       "5              \n",
       "13             \n",
       "17             \n",
       "22             \n",
       "25             \n",
       "31             \n",
       "32             \n",
       "35             \n",
       "37             "
      ],
      "text/html": "<div>\n<style scoped>\n    .dataframe tbody tr th:only-of-type {\n        vertical-align: middle;\n    }\n\n    .dataframe tbody tr th {\n        vertical-align: top;\n    }\n\n    .dataframe thead th {\n        text-align: right;\n    }\n</style>\n<table border=\"1\" class=\"dataframe\">\n  <thead>\n    <tr style=\"text-align: right;\">\n      <th></th>\n      <th>City</th>\n      <th>Country</th>\n      <th>Max Temp</th>\n      <th>Current Description</th>\n      <th>Lat</th>\n      <th>Lng</th>\n      <th>Hotel Name</th>\n    </tr>\n  </thead>\n  <tbody>\n    <tr>\n      <th>0</th>\n      <td>Talara</td>\n      <td>PE</td>\n      <td>87.80</td>\n      <td>clear sky</td>\n      <td>-4.5772</td>\n      <td>-81.2719</td>\n      <td></td>\n    </tr>\n    <tr>\n      <th>5</th>\n      <td>Lorengau</td>\n      <td>PG</td>\n      <td>80.87</td>\n      <td>overcast clouds</td>\n      <td>-2.0226</td>\n      <td>147.2712</td>\n      <td></td>\n    </tr>\n    <tr>\n      <th>13</th>\n      <td>Meulaboh</td>\n      <td>ID</td>\n      <td>77.70</td>\n      <td>overcast clouds</td>\n      <td>4.1363</td>\n      <td>96.1285</td>\n      <td></td>\n    </tr>\n    <tr>\n      <th>17</th>\n      <td>San Lorenzo</td>\n      <td>PY</td>\n      <td>75.20</td>\n      <td>broken clouds</td>\n      <td>-25.3333</td>\n      <td>-57.5333</td>\n      <td></td>\n    </tr>\n    <tr>\n      <th>22</th>\n      <td>Saldanha</td>\n      <td>ZA</td>\n      <td>71.60</td>\n      <td>overcast clouds</td>\n      <td>-33.0117</td>\n      <td>17.9442</td>\n      <td></td>\n    </tr>\n    <tr>\n      <th>25</th>\n      <td>Galle</td>\n      <td>LK</td>\n      <td>80.67</td>\n      <td>broken clouds</td>\n      <td>6.0367</td>\n      <td>80.2170</td>\n      <td></td>\n    </tr>\n    <tr>\n      <th>31</th>\n      <td>Rikitea</td>\n      <td>PF</td>\n      <td>78.42</td>\n      <td>clear sky</td>\n      <td>-23.1203</td>\n      <td>-134.9692</td>\n      <td></td>\n    </tr>\n    <tr>\n      <th>32</th>\n      <td>Kudahuvadhoo</td>\n      <td>MV</td>\n      <td>83.68</td>\n      <td>broken clouds</td>\n      <td>2.6708</td>\n      <td>72.8944</td>\n      <td></td>\n    </tr>\n    <tr>\n      <th>35</th>\n      <td>Maceio</td>\n      <td>BR</td>\n      <td>77.00</td>\n      <td>mist</td>\n      <td>-9.6658</td>\n      <td>-35.7353</td>\n      <td></td>\n    </tr>\n    <tr>\n      <th>37</th>\n      <td>Puerto Ayora</td>\n      <td>EC</td>\n      <td>80.60</td>\n      <td>few clouds</td>\n      <td>-0.7393</td>\n      <td>-90.3518</td>\n      <td></td>\n    </tr>\n  </tbody>\n</table>\n</div>"
     },
     "metadata": {},
     "execution_count": 99
    }
   ],
   "source": [
    "# 5a. Create DataFrame called hotel_df to store hotel names along with city, country, max temp, and coordinates.\n",
    "hotel_df = clean_preferred_cities_df[[\"City\", \"Country\", \"Max Temp\", \"Current Description\", \"Lat\", \"Lng\"]].copy()\n",
    "\n",
    "# 5b. Create a new column \"Hotel Name\"\n",
    "hotel_df[\"Hotel Name\"] = \"\"\n",
    "hotel_df.head(10)"
   ]
  },
  {
   "cell_type": "code",
   "execution_count": 101,
   "metadata": {},
   "outputs": [
    {
     "output_type": "stream",
     "name": "stdout",
     "text": [
      "Hotel not found... skipping.\n",
      "Hotel not found... skipping.\n",
      "Hotel not found... skipping.\n",
      "Hotel not found... skipping.\n",
      "Hotel not found... skipping.\n",
      "Hotel not found... skipping.\n",
      "Hotel not found... skipping.\n",
      "Hotel not found... skipping.\n",
      "Hotel not found... skipping.\n",
      "Hotel not found... skipping.\n",
      "Hotel not found... skipping.\n",
      "Hotel not found... skipping.\n",
      "Hotel not found... skipping.\n"
     ]
    }
   ],
   "source": [
    "# 6a. Set parameters to search for hotels with 5000 meters.\n",
    "params = {\n",
    "    \"radius\": 5000,\n",
    "    \"type\": \"lodging\",\n",
    "    \"key\": g_key\n",
    "}\n",
    "\n",
    "# 6b. Iterate through the hotel DataFrame.\n",
    "for index, row in hotel_df.iterrows():\n",
    "    # 6c. Get latitude and longitude from DataFrame\n",
    "    lat = row['Lat']\n",
    "    lng = row['Lng']\n",
    "    \n",
    "    params[\"location\"] = f'{lat},{lng}'\n",
    "\n",
    "    # 6d. Set up the base URL for the Google Directions API to get JSON data.\n",
    "    base_url = \"https://maps.googleapis.com/maps/api/place/nearbysearch/json\"\n",
    "\n",
    "    # 6e. Make request and retrieve the JSON data from the search. \n",
    "    hotels_response = requests.get(base_url,params=params).json()\n",
    "    \n",
    "    # 6f. Get the first hotel from the results and store the name, if a hotel isn't found skip the city.\n",
    "    try:\n",
    "        hotel_df.loc[index, \"Hotel Name\"] = hotels_response[\"results\"][0][\"name\"]\n",
    "    except (IndexError):\n",
    "        print(\"Hotel not found... skipping.\")\n",
    "        "
   ]
  },
  {
   "cell_type": "code",
   "execution_count": 137,
   "metadata": {},
   "outputs": [
    {
     "output_type": "execute_result",
     "data": {
      "text/plain": [
       "            City Country  Max Temp Current Description      Lat       Lng  \\\n",
       "0         Talara      PE     87.80           clear sky  -4.5772  -81.2719   \n",
       "5       Lorengau      PG     80.87     overcast clouds  -2.0226  147.2712   \n",
       "13      Meulaboh      ID     77.70     overcast clouds   4.1363   96.1285   \n",
       "17   San Lorenzo      PY     75.20       broken clouds -25.3333  -57.5333   \n",
       "22      Saldanha      ZA     71.60     overcast clouds -33.0117   17.9442   \n",
       "..           ...     ...       ...                 ...      ...       ...   \n",
       "694     Sulangan      PH     81.84     overcast clouds  11.1373  123.7228   \n",
       "696      Huarmey      PE     74.07       broken clouds -10.0681  -78.1522   \n",
       "697      Mateare      NI     87.80    scattered clouds  12.2351  -86.4281   \n",
       "701    Horn Lake      US     70.00           clear sky  34.9554  -90.0348   \n",
       "702     Goiatuba      BR     83.50           clear sky -18.0125  -49.3547   \n",
       "\n",
       "                                  Hotel Name  \n",
       "0                           Hostal Oro Negro  \n",
       "5                 Lorengau Harbourside Hotel  \n",
       "13                                 Kost Pria  \n",
       "17                             Hotel del Sur  \n",
       "22                            Blue Bay Lodge  \n",
       "..                                       ...  \n",
       "694                      Maia's Beach Resort  \n",
       "696                            Hotel Miramar  \n",
       "697             Lotinica prados las mercedes  \n",
       "701  Hilton Garden Inn Memphis/Southaven, MS  \n",
       "702                           Hotel Barrocos  \n",
       "\n",
       "[259 rows x 7 columns]"
      ],
      "text/html": "<div>\n<style scoped>\n    .dataframe tbody tr th:only-of-type {\n        vertical-align: middle;\n    }\n\n    .dataframe tbody tr th {\n        vertical-align: top;\n    }\n\n    .dataframe thead th {\n        text-align: right;\n    }\n</style>\n<table border=\"1\" class=\"dataframe\">\n  <thead>\n    <tr style=\"text-align: right;\">\n      <th></th>\n      <th>City</th>\n      <th>Country</th>\n      <th>Max Temp</th>\n      <th>Current Description</th>\n      <th>Lat</th>\n      <th>Lng</th>\n      <th>Hotel Name</th>\n    </tr>\n  </thead>\n  <tbody>\n    <tr>\n      <th>0</th>\n      <td>Talara</td>\n      <td>PE</td>\n      <td>87.80</td>\n      <td>clear sky</td>\n      <td>-4.5772</td>\n      <td>-81.2719</td>\n      <td>Hostal Oro Negro</td>\n    </tr>\n    <tr>\n      <th>5</th>\n      <td>Lorengau</td>\n      <td>PG</td>\n      <td>80.87</td>\n      <td>overcast clouds</td>\n      <td>-2.0226</td>\n      <td>147.2712</td>\n      <td>Lorengau Harbourside Hotel</td>\n    </tr>\n    <tr>\n      <th>13</th>\n      <td>Meulaboh</td>\n      <td>ID</td>\n      <td>77.70</td>\n      <td>overcast clouds</td>\n      <td>4.1363</td>\n      <td>96.1285</td>\n      <td>Kost Pria</td>\n    </tr>\n    <tr>\n      <th>17</th>\n      <td>San Lorenzo</td>\n      <td>PY</td>\n      <td>75.20</td>\n      <td>broken clouds</td>\n      <td>-25.3333</td>\n      <td>-57.5333</td>\n      <td>Hotel del Sur</td>\n    </tr>\n    <tr>\n      <th>22</th>\n      <td>Saldanha</td>\n      <td>ZA</td>\n      <td>71.60</td>\n      <td>overcast clouds</td>\n      <td>-33.0117</td>\n      <td>17.9442</td>\n      <td>Blue Bay Lodge</td>\n    </tr>\n    <tr>\n      <th>...</th>\n      <td>...</td>\n      <td>...</td>\n      <td>...</td>\n      <td>...</td>\n      <td>...</td>\n      <td>...</td>\n      <td>...</td>\n    </tr>\n    <tr>\n      <th>694</th>\n      <td>Sulangan</td>\n      <td>PH</td>\n      <td>81.84</td>\n      <td>overcast clouds</td>\n      <td>11.1373</td>\n      <td>123.7228</td>\n      <td>Maia's Beach Resort</td>\n    </tr>\n    <tr>\n      <th>696</th>\n      <td>Huarmey</td>\n      <td>PE</td>\n      <td>74.07</td>\n      <td>broken clouds</td>\n      <td>-10.0681</td>\n      <td>-78.1522</td>\n      <td>Hotel Miramar</td>\n    </tr>\n    <tr>\n      <th>697</th>\n      <td>Mateare</td>\n      <td>NI</td>\n      <td>87.80</td>\n      <td>scattered clouds</td>\n      <td>12.2351</td>\n      <td>-86.4281</td>\n      <td>Lotinica prados las mercedes</td>\n    </tr>\n    <tr>\n      <th>701</th>\n      <td>Horn Lake</td>\n      <td>US</td>\n      <td>70.00</td>\n      <td>clear sky</td>\n      <td>34.9554</td>\n      <td>-90.0348</td>\n      <td>Hilton Garden Inn Memphis/Southaven, MS</td>\n    </tr>\n    <tr>\n      <th>702</th>\n      <td>Goiatuba</td>\n      <td>BR</td>\n      <td>83.50</td>\n      <td>clear sky</td>\n      <td>-18.0125</td>\n      <td>-49.3547</td>\n      <td>Hotel Barrocos</td>\n    </tr>\n  </tbody>\n</table>\n<p>259 rows × 7 columns</p>\n</div>"
     },
     "metadata": {},
     "execution_count": 137
    }
   ],
   "source": [
    "hotel_df"
   ]
  },
  {
   "source": [
    "# 7. Drop the rows where there is no Hotel Name.\n",
    "import numpy as np\n",
    "hotel_df['Hotel Name'] = hotel_df['Hotel Name'].replace('', np.nan)\n",
    "clean_hotel_df = hotel_df.dropna(axis=0, subset=['Hotel Name'])\n",
    "clean_hotel_df.isna().sum()"
   ],
   "cell_type": "code",
   "metadata": {},
   "execution_count": 138,
   "outputs": [
    {
     "output_type": "execute_result",
     "data": {
      "text/plain": [
       "City                   0\n",
       "Country                0\n",
       "Max Temp               0\n",
       "Current Description    0\n",
       "Lat                    0\n",
       "Lng                    0\n",
       "Hotel Name             0\n",
       "dtype: int64"
      ]
     },
     "metadata": {},
     "execution_count": 138
    }
   ]
  },
  {
   "cell_type": "code",
   "execution_count": 139,
   "metadata": {},
   "outputs": [
    {
     "output_type": "execute_result",
     "data": {
      "text/plain": [
       "            City Country  Max Temp Current Description      Lat       Lng  \\\n",
       "0         Talara      PE     87.80           clear sky  -4.5772  -81.2719   \n",
       "5       Lorengau      PG     80.87     overcast clouds  -2.0226  147.2712   \n",
       "13      Meulaboh      ID     77.70     overcast clouds   4.1363   96.1285   \n",
       "17   San Lorenzo      PY     75.20       broken clouds -25.3333  -57.5333   \n",
       "22      Saldanha      ZA     71.60     overcast clouds -33.0117   17.9442   \n",
       "..           ...     ...       ...                 ...      ...       ...   \n",
       "694     Sulangan      PH     81.84     overcast clouds  11.1373  123.7228   \n",
       "696      Huarmey      PE     74.07       broken clouds -10.0681  -78.1522   \n",
       "697      Mateare      NI     87.80    scattered clouds  12.2351  -86.4281   \n",
       "701    Horn Lake      US     70.00           clear sky  34.9554  -90.0348   \n",
       "702     Goiatuba      BR     83.50           clear sky -18.0125  -49.3547   \n",
       "\n",
       "                                  Hotel Name  \n",
       "0                           Hostal Oro Negro  \n",
       "5                 Lorengau Harbourside Hotel  \n",
       "13                                 Kost Pria  \n",
       "17                             Hotel del Sur  \n",
       "22                            Blue Bay Lodge  \n",
       "..                                       ...  \n",
       "694                      Maia's Beach Resort  \n",
       "696                            Hotel Miramar  \n",
       "697             Lotinica prados las mercedes  \n",
       "701  Hilton Garden Inn Memphis/Southaven, MS  \n",
       "702                           Hotel Barrocos  \n",
       "\n",
       "[246 rows x 7 columns]"
      ],
      "text/html": "<div>\n<style scoped>\n    .dataframe tbody tr th:only-of-type {\n        vertical-align: middle;\n    }\n\n    .dataframe tbody tr th {\n        vertical-align: top;\n    }\n\n    .dataframe thead th {\n        text-align: right;\n    }\n</style>\n<table border=\"1\" class=\"dataframe\">\n  <thead>\n    <tr style=\"text-align: right;\">\n      <th></th>\n      <th>City</th>\n      <th>Country</th>\n      <th>Max Temp</th>\n      <th>Current Description</th>\n      <th>Lat</th>\n      <th>Lng</th>\n      <th>Hotel Name</th>\n    </tr>\n  </thead>\n  <tbody>\n    <tr>\n      <th>0</th>\n      <td>Talara</td>\n      <td>PE</td>\n      <td>87.80</td>\n      <td>clear sky</td>\n      <td>-4.5772</td>\n      <td>-81.2719</td>\n      <td>Hostal Oro Negro</td>\n    </tr>\n    <tr>\n      <th>5</th>\n      <td>Lorengau</td>\n      <td>PG</td>\n      <td>80.87</td>\n      <td>overcast clouds</td>\n      <td>-2.0226</td>\n      <td>147.2712</td>\n      <td>Lorengau Harbourside Hotel</td>\n    </tr>\n    <tr>\n      <th>13</th>\n      <td>Meulaboh</td>\n      <td>ID</td>\n      <td>77.70</td>\n      <td>overcast clouds</td>\n      <td>4.1363</td>\n      <td>96.1285</td>\n      <td>Kost Pria</td>\n    </tr>\n    <tr>\n      <th>17</th>\n      <td>San Lorenzo</td>\n      <td>PY</td>\n      <td>75.20</td>\n      <td>broken clouds</td>\n      <td>-25.3333</td>\n      <td>-57.5333</td>\n      <td>Hotel del Sur</td>\n    </tr>\n    <tr>\n      <th>22</th>\n      <td>Saldanha</td>\n      <td>ZA</td>\n      <td>71.60</td>\n      <td>overcast clouds</td>\n      <td>-33.0117</td>\n      <td>17.9442</td>\n      <td>Blue Bay Lodge</td>\n    </tr>\n    <tr>\n      <th>...</th>\n      <td>...</td>\n      <td>...</td>\n      <td>...</td>\n      <td>...</td>\n      <td>...</td>\n      <td>...</td>\n      <td>...</td>\n    </tr>\n    <tr>\n      <th>694</th>\n      <td>Sulangan</td>\n      <td>PH</td>\n      <td>81.84</td>\n      <td>overcast clouds</td>\n      <td>11.1373</td>\n      <td>123.7228</td>\n      <td>Maia's Beach Resort</td>\n    </tr>\n    <tr>\n      <th>696</th>\n      <td>Huarmey</td>\n      <td>PE</td>\n      <td>74.07</td>\n      <td>broken clouds</td>\n      <td>-10.0681</td>\n      <td>-78.1522</td>\n      <td>Hotel Miramar</td>\n    </tr>\n    <tr>\n      <th>697</th>\n      <td>Mateare</td>\n      <td>NI</td>\n      <td>87.80</td>\n      <td>scattered clouds</td>\n      <td>12.2351</td>\n      <td>-86.4281</td>\n      <td>Lotinica prados las mercedes</td>\n    </tr>\n    <tr>\n      <th>701</th>\n      <td>Horn Lake</td>\n      <td>US</td>\n      <td>70.00</td>\n      <td>clear sky</td>\n      <td>34.9554</td>\n      <td>-90.0348</td>\n      <td>Hilton Garden Inn Memphis/Southaven, MS</td>\n    </tr>\n    <tr>\n      <th>702</th>\n      <td>Goiatuba</td>\n      <td>BR</td>\n      <td>83.50</td>\n      <td>clear sky</td>\n      <td>-18.0125</td>\n      <td>-49.3547</td>\n      <td>Hotel Barrocos</td>\n    </tr>\n  </tbody>\n</table>\n<p>246 rows × 7 columns</p>\n</div>"
     },
     "metadata": {},
     "execution_count": 139
    }
   ],
   "source": [
    "# TEST\n",
    "clean_hotel_df"
   ]
  },
  {
   "cell_type": "code",
   "execution_count": 140,
   "metadata": {},
   "outputs": [],
   "source": [
    "# 8a. Create the output File (CSV)\n",
    "output_data_file = \"../Vacation_Search/WeatherPy_vacation.csv\"\n",
    "# 8b. Export the City_Data into a csv\n",
    "clean_hotel_df.to_csv(output_data_file, index_label=\"City_ID\")"
   ]
  },
  {
   "cell_type": "code",
   "execution_count": 156,
   "metadata": {},
   "outputs": [],
   "source": [
    "# 9. Using the template add city name, the country code, the weather description and maximum temperature for the city.\n",
    "info_box_template = \"\"\"\n",
    "<dl>\n",
    "<dt><b>Hotel Name</b></dt>\n",
    "<ddstyle=\"text-align:left;\">{Hotel Name}</dd>\n",
    "<dt><b>City</b></dt>\n",
    "<ddstyle=\"text-align:left;\">{City}</dd>\n",
    "<dt><b>Country</b></dt>\n",
    "<ddstyle=\"text-align:left;\">{Country}</dd>\n",
    "<dt><b>Current Weather</b></dt>\n",
    "<ddstyle=\"text-align:left;\">{Current Description}</dd> and <ddstyle=\"text-align:left;\">{Max Temp} °F</dd>\n",
    "</dl>\n",
    "\"\"\"\n",
    "\n",
    "# 10a. Get the data from each row and add it to the formatting template and store the data in a list.\n",
    "hotel_info = [info_box_template.format(**row) for index, row in clean_hotel_df.iterrows()]\n",
    "\n",
    "# 10b. Get the latitude and longitude from each row and store in a new DataFrame.\n",
    "locations = clean_hotel_df[[\"Lat\", \"Lng\"]]"
   ]
  },
  {
   "cell_type": "code",
   "execution_count": 160,
   "metadata": {},
   "outputs": [
    {
     "output_type": "display_data",
     "data": {
      "text/plain": "Figure(layout=FigureLayout(height='420px'))",
      "application/vnd.jupyter.widget-view+json": {
       "version_major": 2,
       "version_minor": 0,
       "model_id": "574e6b0ba5e14267a4fe9c7d2a1455a6"
      }
     },
     "metadata": {}
    }
   ],
   "source": [
    "import matplotlib.pyplot as plt\n",
    "# 11a. Add a marker layer for each city to the map. \n",
    "fig = gmaps.figure(center=(30.0, 31.0), zoom_level=1.5)\n",
    "marker_layer = gmaps.marker_layer(locations, info_box_content=hotel_info)\n",
    "fig.add_layer(marker_layer)\n",
    "# 11b. Display the figure\n",
    "fig"
   ]
  },
  {
   "cell_type": "code",
   "execution_count": null,
   "metadata": {},
   "outputs": [],
   "source": []
  }
 ],
 "metadata": {
  "kernelspec": {
   "name": "python379jvsc74a57bd087062fd7c6a7fa9e5d42cab2362b0b980cca2e3d1a89f8722be6c52e565a5952",
   "display_name": "Python 3.7.9 64-bit ('PythonData': conda)"
  },
  "language_info": {
   "codemirror_mode": {
    "name": "ipython",
    "version": 3
   },
   "file_extension": ".py",
   "mimetype": "text/x-python",
   "name": "python",
   "nbconvert_exporter": "python",
   "pygments_lexer": "ipython3",
   "version": "3.7.9-final"
  },
  "latex_envs": {
   "LaTeX_envs_menu_present": true,
   "autoclose": false,
   "autocomplete": true,
   "bibliofile": "biblio.bib",
   "cite_by": "apalike",
   "current_citInitial": 1,
   "eqLabelWithNumbers": true,
   "eqNumInitial": 1,
   "hotkeys": {
    "equation": "Ctrl-E",
    "itemize": "Ctrl-I"
   },
   "labels_anchors": false,
   "latex_user_defs": false,
   "report_style_numbering": false,
   "user_envs_cfg": false
  }
 },
 "nbformat": 4,
 "nbformat_minor": 2
}